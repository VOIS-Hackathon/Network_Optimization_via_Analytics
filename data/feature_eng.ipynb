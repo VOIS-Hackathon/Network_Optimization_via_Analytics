{
 "cells": [
  {
   "cell_type": "markdown",
   "id": "fc2d8a41",
   "metadata": {},
   "source": [
    "Load and Feature Engineering"
   ]
  },
  {
   "cell_type": "code",
   "execution_count": 2,
   "id": "4f0e6bfc",
   "metadata": {},
   "outputs": [
    {
     "data": {
      "text/plain": [
       "Index(['timestamp', 'tower_id', 'latency_sec', 'bandwidth', 'dropped_calls',\n",
       "       'total_calls', 'uptime_percent', 'network_type', 'operator',\n",
       "       'users_connected', 'download_speed_mbps', 'signal_strength_dbm',\n",
       "       'tower_load_percent', 'average_call_duration_sec',\n",
       "       'handover_success_rate', 'packet_loss_percent', 'jitter_ms',\n",
       "       'tower_temperature_c', 'battery_backup_hours', 'tower_age_years',\n",
       "       'maintenance_due', 'upload_speed_mbps', 'call_drop_reason',\n",
       "       'weather_condition', 'technician_notes', 'last_maintenance',\n",
       "       'tower_color', 'is_test_tower', 'tower_height_m', 'signal_icon',\n",
       "       'internal_code', 'notes', 'extra_flag', 'location.latitude',\n",
       "       'location.longitude', 'signal_strength.RSSI', 'signal_strength.RSRP',\n",
       "       'signal_strength.SINR', 'voip_metrics.jitter_ms',\n",
       "       'voip_metrics.packet_loss_percent', 'call_drop_rate', 'bandwidth_mbps'],\n",
       "      dtype='object')"
      ]
     },
     "execution_count": 2,
     "metadata": {},
     "output_type": "execute_result"
    }
   ],
   "source": [
    "import pandas as pd \n",
    "\n",
    "df=pd.read_csv('cleaned_network_data.csv')\n",
    "df.columns"
   ]
  },
  {
   "cell_type": "code",
   "execution_count": null,
   "id": "50289623",
   "metadata": {},
   "outputs": [],
   "source": []
  },
  {
   "cell_type": "markdown",
   "id": "763acb90",
   "metadata": {},
   "source": [
    "Drop unrequierd rows"
   ]
  },
  {
   "cell_type": "code",
   "execution_count": 3,
   "id": "7ae4649e",
   "metadata": {},
   "outputs": [],
   "source": [
    "irrelevant_cols = [\n",
    "    \"weather_condition\",\n",
    "    \"technician_notes\",\n",
    "    \"last_maintenance\",\n",
    "    \"tower_color\",\n",
    "    \"is_test_tower\",\n",
    "    \"tower_height_m\",\n",
    "    \"signal_icon\",\n",
    "    \"internal_code\",\n",
    "    \"notes\",\n",
    "    \"extra_flag\"\n",
    "]\n",
    "\n",
    "df = df.drop(columns=irrelevant_cols)"
   ]
  },
  {
   "cell_type": "code",
   "execution_count": 5,
   "id": "12492efd",
   "metadata": {},
   "outputs": [
    {
     "data": {
      "text/plain": [
       "Index(['timestamp', 'tower_id', 'latency_sec', 'bandwidth', 'dropped_calls',\n",
       "       'total_calls', 'uptime_percent', 'network_type', 'operator',\n",
       "       'users_connected', 'download_speed_mbps', 'signal_strength_dbm',\n",
       "       'tower_load_percent', 'average_call_duration_sec',\n",
       "       'handover_success_rate', 'packet_loss_percent', 'jitter_ms',\n",
       "       'tower_temperature_c', 'battery_backup_hours', 'tower_age_years',\n",
       "       'maintenance_due', 'upload_speed_mbps', 'call_drop_reason',\n",
       "       'location.latitude', 'location.longitude', 'signal_strength.RSSI',\n",
       "       'signal_strength.RSRP', 'signal_strength.SINR',\n",
       "       'voip_metrics.jitter_ms', 'voip_metrics.packet_loss_percent',\n",
       "       'call_drop_rate', 'bandwidth_mbps'],\n",
       "      dtype='object')"
      ]
     },
     "execution_count": 5,
     "metadata": {},
     "output_type": "execute_result"
    }
   ],
   "source": [
    "df.columns"
   ]
  },
  {
   "cell_type": "code",
   "execution_count": 19,
   "id": "eb22a847",
   "metadata": {},
   "outputs": [],
   "source": [
    "def needs_optimization_relaxed(row):\n",
    "    conditions = [\n",
    "        row['uptime_percent'] < 95,\n",
    "        row['dropped_calls'] / max(row['total_calls'], 1) > 0.1,\n",
    "        row['download_speed_mbps'] < 5 or row['upload_speed_mbps'] < 2,\n",
    "        row['packet_loss_percent'] > 3 or row['jitter_ms'] > 18,\n",
    "        row['signal_strength.RSSI'] < -105 or row['signal_strength.RSRP'] < -125 or row['signal_strength.SINR'] < -5\n",
    "    ]\n",
    "    # Only require 2 or more violations to flag\n",
    "    return sum(conditions) >= 2\n",
    "\n",
    "df['needs_optimization'] = df.apply(needs_optimization_relaxed, axis=1)"
   ]
  },
  {
   "cell_type": "code",
   "execution_count": 20,
   "id": "156ab0fc",
   "metadata": {},
   "outputs": [
    {
     "data": {
      "text/html": [
       "<div>\n",
       "<style scoped>\n",
       "    .dataframe tbody tr th:only-of-type {\n",
       "        vertical-align: middle;\n",
       "    }\n",
       "\n",
       "    .dataframe tbody tr th {\n",
       "        vertical-align: top;\n",
       "    }\n",
       "\n",
       "    .dataframe thead th {\n",
       "        text-align: right;\n",
       "    }\n",
       "</style>\n",
       "<table border=\"1\" class=\"dataframe\">\n",
       "  <thead>\n",
       "    <tr style=\"text-align: right;\">\n",
       "      <th></th>\n",
       "      <th>timestamp</th>\n",
       "      <th>tower_id</th>\n",
       "      <th>latency_sec</th>\n",
       "      <th>bandwidth</th>\n",
       "      <th>dropped_calls</th>\n",
       "      <th>total_calls</th>\n",
       "      <th>uptime_percent</th>\n",
       "      <th>network_type</th>\n",
       "      <th>operator</th>\n",
       "      <th>users_connected</th>\n",
       "      <th>...</th>\n",
       "      <th>location.latitude</th>\n",
       "      <th>location.longitude</th>\n",
       "      <th>signal_strength.RSSI</th>\n",
       "      <th>signal_strength.RSRP</th>\n",
       "      <th>signal_strength.SINR</th>\n",
       "      <th>voip_metrics.jitter_ms</th>\n",
       "      <th>voip_metrics.packet_loss_percent</th>\n",
       "      <th>call_drop_rate</th>\n",
       "      <th>bandwidth_mbps</th>\n",
       "      <th>needs_optimization</th>\n",
       "    </tr>\n",
       "  </thead>\n",
       "  <tbody>\n",
       "    <tr>\n",
       "      <th>0</th>\n",
       "      <td>2025-08-22 00:00:00</td>\n",
       "      <td>TWR1062</td>\n",
       "      <td>0.363</td>\n",
       "      <td>64.56 Gbps</td>\n",
       "      <td>3</td>\n",
       "      <td>129</td>\n",
       "      <td>97.15</td>\n",
       "      <td>5G</td>\n",
       "      <td>Three</td>\n",
       "      <td>478</td>\n",
       "      <td>...</td>\n",
       "      <td>57.144657</td>\n",
       "      <td>-2.092696</td>\n",
       "      <td>-110.41</td>\n",
       "      <td>-135.70</td>\n",
       "      <td>29.61</td>\n",
       "      <td>19.47</td>\n",
       "      <td>0.76</td>\n",
       "      <td>2.325581</td>\n",
       "      <td>64560.00</td>\n",
       "      <td>False</td>\n",
       "    </tr>\n",
       "    <tr>\n",
       "      <th>1</th>\n",
       "      <td>2025-08-22 00:05:00</td>\n",
       "      <td>TWR1077</td>\n",
       "      <td>0.110</td>\n",
       "      <td>81.71 Mbps</td>\n",
       "      <td>9</td>\n",
       "      <td>118</td>\n",
       "      <td>97.70</td>\n",
       "      <td>4G</td>\n",
       "      <td>O2</td>\n",
       "      <td>308</td>\n",
       "      <td>...</td>\n",
       "      <td>52.493125</td>\n",
       "      <td>-1.897314</td>\n",
       "      <td>-73.55</td>\n",
       "      <td>-93.07</td>\n",
       "      <td>12.72</td>\n",
       "      <td>46.30</td>\n",
       "      <td>3.71</td>\n",
       "      <td>7.627119</td>\n",
       "      <td>81.71</td>\n",
       "      <td>False</td>\n",
       "    </tr>\n",
       "    <tr>\n",
       "      <th>2</th>\n",
       "      <td>2025-08-22 00:10:00</td>\n",
       "      <td>TWR1056</td>\n",
       "      <td>0.965</td>\n",
       "      <td>98.17 Mbps</td>\n",
       "      <td>0</td>\n",
       "      <td>69</td>\n",
       "      <td>96.56</td>\n",
       "      <td>4G</td>\n",
       "      <td>EE</td>\n",
       "      <td>272</td>\n",
       "      <td>...</td>\n",
       "      <td>53.408641</td>\n",
       "      <td>-2.987669</td>\n",
       "      <td>-91.22</td>\n",
       "      <td>-82.46</td>\n",
       "      <td>21.31</td>\n",
       "      <td>38.92</td>\n",
       "      <td>1.36</td>\n",
       "      <td>0.000000</td>\n",
       "      <td>98.17</td>\n",
       "      <td>False</td>\n",
       "    </tr>\n",
       "    <tr>\n",
       "      <th>3</th>\n",
       "      <td>2025-08-22 00:15:00</td>\n",
       "      <td>TWR1043</td>\n",
       "      <td>0.364</td>\n",
       "      <td>12.41 Gbps</td>\n",
       "      <td>8</td>\n",
       "      <td>191</td>\n",
       "      <td>99.28</td>\n",
       "      <td>4G</td>\n",
       "      <td>Vodafone UK</td>\n",
       "      <td>88</td>\n",
       "      <td>...</td>\n",
       "      <td>51.744629</td>\n",
       "      <td>-1.264011</td>\n",
       "      <td>-99.08</td>\n",
       "      <td>-90.35</td>\n",
       "      <td>-9.89</td>\n",
       "      <td>12.17</td>\n",
       "      <td>0.89</td>\n",
       "      <td>4.188482</td>\n",
       "      <td>12410.00</td>\n",
       "      <td>True</td>\n",
       "    </tr>\n",
       "    <tr>\n",
       "      <th>4</th>\n",
       "      <td>2025-08-22 00:20:00</td>\n",
       "      <td>TWR1062</td>\n",
       "      <td>0.211</td>\n",
       "      <td>98.31 Gbps</td>\n",
       "      <td>3</td>\n",
       "      <td>69</td>\n",
       "      <td>97.56</td>\n",
       "      <td>5G</td>\n",
       "      <td>O2</td>\n",
       "      <td>15</td>\n",
       "      <td>...</td>\n",
       "      <td>53.408299</td>\n",
       "      <td>-2.983090</td>\n",
       "      <td>-73.74</td>\n",
       "      <td>-115.27</td>\n",
       "      <td>24.99</td>\n",
       "      <td>11.50</td>\n",
       "      <td>2.02</td>\n",
       "      <td>4.347826</td>\n",
       "      <td>98310.00</td>\n",
       "      <td>False</td>\n",
       "    </tr>\n",
       "  </tbody>\n",
       "</table>\n",
       "<p>5 rows × 33 columns</p>\n",
       "</div>"
      ],
      "text/plain": [
       "             timestamp tower_id  latency_sec   bandwidth  dropped_calls  \\\n",
       "0  2025-08-22 00:00:00  TWR1062        0.363  64.56 Gbps              3   \n",
       "1  2025-08-22 00:05:00  TWR1077        0.110  81.71 Mbps              9   \n",
       "2  2025-08-22 00:10:00  TWR1056        0.965  98.17 Mbps              0   \n",
       "3  2025-08-22 00:15:00  TWR1043        0.364  12.41 Gbps              8   \n",
       "4  2025-08-22 00:20:00  TWR1062        0.211  98.31 Gbps              3   \n",
       "\n",
       "   total_calls  uptime_percent network_type     operator  users_connected  \\\n",
       "0          129           97.15           5G        Three              478   \n",
       "1          118           97.70           4G           O2              308   \n",
       "2           69           96.56           4G           EE              272   \n",
       "3          191           99.28           4G  Vodafone UK               88   \n",
       "4           69           97.56           5G           O2               15   \n",
       "\n",
       "   ...  location.latitude  location.longitude  signal_strength.RSSI  \\\n",
       "0  ...          57.144657           -2.092696               -110.41   \n",
       "1  ...          52.493125           -1.897314                -73.55   \n",
       "2  ...          53.408641           -2.987669                -91.22   \n",
       "3  ...          51.744629           -1.264011                -99.08   \n",
       "4  ...          53.408299           -2.983090                -73.74   \n",
       "\n",
       "   signal_strength.RSRP  signal_strength.SINR  voip_metrics.jitter_ms  \\\n",
       "0               -135.70                 29.61                   19.47   \n",
       "1                -93.07                 12.72                   46.30   \n",
       "2                -82.46                 21.31                   38.92   \n",
       "3                -90.35                 -9.89                   12.17   \n",
       "4               -115.27                 24.99                   11.50   \n",
       "\n",
       "   voip_metrics.packet_loss_percent  call_drop_rate  bandwidth_mbps  \\\n",
       "0                              0.76        2.325581        64560.00   \n",
       "1                              3.71        7.627119           81.71   \n",
       "2                              1.36        0.000000           98.17   \n",
       "3                              0.89        4.188482        12410.00   \n",
       "4                              2.02        4.347826        98310.00   \n",
       "\n",
       "   needs_optimization  \n",
       "0               False  \n",
       "1               False  \n",
       "2               False  \n",
       "3                True  \n",
       "4               False  \n",
       "\n",
       "[5 rows x 33 columns]"
      ]
     },
     "execution_count": 20,
     "metadata": {},
     "output_type": "execute_result"
    }
   ],
   "source": [
    "df.head()"
   ]
  },
  {
   "cell_type": "code",
   "execution_count": 21,
   "id": "14f3d7ba",
   "metadata": {},
   "outputs": [
    {
     "data": {
      "text/plain": [
       "(2485, 33)"
      ]
     },
     "execution_count": 21,
     "metadata": {},
     "output_type": "execute_result"
    }
   ],
   "source": [
    "df[df['needs_optimization'] == True].shape\n"
   ]
  },
  {
   "cell_type": "code",
   "execution_count": 22,
   "id": "73da36bf",
   "metadata": {},
   "outputs": [
    {
     "data": {
      "text/plain": [
       "(6515, 33)"
      ]
     },
     "execution_count": 22,
     "metadata": {},
     "output_type": "execute_result"
    }
   ],
   "source": [
    "df[df['needs_optimization'] == False].shape"
   ]
  },
  {
   "cell_type": "markdown",
   "id": "782d3deb",
   "metadata": {},
   "source": [
    "Now we'll Train the model with RandomForest"
   ]
  },
  {
   "cell_type": "code",
   "execution_count": null,
   "id": "d19cb5c2",
   "metadata": {},
   "outputs": [],
   "source": [
    "from sklearn.models import RandomForestClassifier"
   ]
  }
 ],
 "metadata": {
  "kernelspec": {
   "display_name": "Python 3",
   "language": "python",
   "name": "python3"
  },
  "language_info": {
   "codemirror_mode": {
    "name": "ipython",
    "version": 3
   },
   "file_extension": ".py",
   "mimetype": "text/x-python",
   "name": "python",
   "nbconvert_exporter": "python",
   "pygments_lexer": "ipython3",
   "version": "3.12.7"
  }
 },
 "nbformat": 4,
 "nbformat_minor": 5
}
