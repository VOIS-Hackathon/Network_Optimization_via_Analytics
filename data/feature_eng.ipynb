{
 "cells": [
  {
   "cell_type": "markdown",
   "id": "fc2d8a41",
   "metadata": {},
   "source": [
    "Load and Feature Engineering"
   ]
  },
  {
   "cell_type": "code",
   "execution_count": 1,
   "id": "4f0e6bfc",
   "metadata": {},
   "outputs": [],
   "source": [
    "import pandas as pd \n",
    "\n",
    "df=pd.read_csv('cleaned_network_data.csv')"
   ]
  },
  {
   "cell_type": "code",
   "execution_count": 6,
   "id": "50289623",
   "metadata": {},
   "outputs": [
    {
     "name": "stdout",
     "output_type": "stream",
     "text": [
      "<class 'pandas.core.frame.DataFrame'>\n",
      "RangeIndex: 9000 entries, 0 to 8999\n",
      "Data columns (total 42 columns):\n",
      " #   Column                            Non-Null Count  Dtype  \n",
      "---  ------                            --------------  -----  \n",
      " 0   timestamp                         9000 non-null   object \n",
      " 1   tower_id                          9000 non-null   object \n",
      " 2   latency_sec                       9000 non-null   float64\n",
      " 3   bandwidth                         9000 non-null   object \n",
      " 4   dropped_calls                     9000 non-null   int64  \n",
      " 5   total_calls                       9000 non-null   int64  \n",
      " 6   uptime_percent                    9000 non-null   float64\n",
      " 7   network_type                      9000 non-null   object \n",
      " 8   operator                          9000 non-null   object \n",
      " 9   users_connected                   9000 non-null   int64  \n",
      " 10  download_speed_mbps               9000 non-null   float64\n",
      " 11  signal_strength_dbm               9000 non-null   float64\n",
      " 12  tower_load_percent                9000 non-null   float64\n",
      " 13  average_call_duration_sec         9000 non-null   float64\n",
      " 14  handover_success_rate             9000 non-null   float64\n",
      " 15  packet_loss_percent               9000 non-null   float64\n",
      " 16  jitter_ms                         9000 non-null   float64\n",
      " 17  tower_temperature_c               9000 non-null   float64\n",
      " 18  battery_backup_hours              9000 non-null   float64\n",
      " 19  tower_age_years                   9000 non-null   int64  \n",
      " 20  maintenance_due                   9000 non-null   bool   \n",
      " 21  upload_speed_mbps                 9000 non-null   float64\n",
      " 22  call_drop_reason                  8499 non-null   object \n",
      " 23  weather_condition                 9000 non-null   object \n",
      " 24  technician_notes                  6690 non-null   object \n",
      " 25  last_maintenance                  9000 non-null   object \n",
      " 26  tower_color                       9000 non-null   object \n",
      " 27  is_test_tower                     9000 non-null   bool   \n",
      " 28  tower_height_m                    9000 non-null   float64\n",
      " 29  signal_icon                       9000 non-null   object \n",
      " 30  internal_code                     9000 non-null   object \n",
      " 31  notes                             6762 non-null   object \n",
      " 32  extra_flag                        9000 non-null   object \n",
      " 33  location.latitude                 9000 non-null   float64\n",
      " 34  location.longitude                9000 non-null   float64\n",
      " 35  signal_strength.RSSI              9000 non-null   float64\n",
      " 36  signal_strength.RSRP              9000 non-null   float64\n",
      " 37  signal_strength.SINR              9000 non-null   float64\n",
      " 38  voip_metrics.jitter_ms            9000 non-null   float64\n",
      " 39  voip_metrics.packet_loss_percent  9000 non-null   float64\n",
      " 40  call_drop_rate                    9000 non-null   float64\n",
      " 41  bandwidth_mbps                    9000 non-null   float64\n",
      "dtypes: bool(2), float64(22), int64(4), object(14)\n",
      "memory usage: 2.8+ MB\n"
     ]
    },
    {
     "data": {
      "text/plain": [
       "(9000, 42)"
      ]
     },
     "execution_count": 6,
     "metadata": {},
     "output_type": "execute_result"
    }
   ],
   "source": [
    "df.info()\n",
    "df.shape"
   ]
  },
  {
   "cell_type": "markdown",
   "id": "763acb90",
   "metadata": {},
   "source": [
    "Drop unrequierd rows"
   ]
  },
  {
   "cell_type": "code",
   "execution_count": 7,
   "id": "7ae4649e",
   "metadata": {},
   "outputs": [],
   "source": [
    "performance_metrics = [\n",
    "        \"latency_sec\", \"dropped_calls\",\n",
    "        \"total_calls\", \"call_drop_rate\", \"uptime_percent\",\n",
    "        \"users_connected\", \"signal_strength.RSSI\",\n",
    "        \"signal_strength.RSRP\", \"signal_strength.SINR\",\n",
    "        \"voip_metrics.jitter_ms\", \"voip_metrics.packet_loss_percent\"\n",
    "    ]\n",
    "\n",
    "df=df[performance_metrics]"
   ]
  },
  {
   "cell_type": "code",
   "execution_count": 9,
   "id": "3692f0da",
   "metadata": {},
   "outputs": [
    {
     "data": {
      "text/html": [
       "<div>\n",
       "<style scoped>\n",
       "    .dataframe tbody tr th:only-of-type {\n",
       "        vertical-align: middle;\n",
       "    }\n",
       "\n",
       "    .dataframe tbody tr th {\n",
       "        vertical-align: top;\n",
       "    }\n",
       "\n",
       "    .dataframe thead th {\n",
       "        text-align: right;\n",
       "    }\n",
       "</style>\n",
       "<table border=\"1\" class=\"dataframe\">\n",
       "  <thead>\n",
       "    <tr style=\"text-align: right;\">\n",
       "      <th></th>\n",
       "      <th>latency_sec</th>\n",
       "      <th>dropped_calls</th>\n",
       "      <th>total_calls</th>\n",
       "      <th>call_drop_rate</th>\n",
       "      <th>uptime_percent</th>\n",
       "      <th>users_connected</th>\n",
       "      <th>signal_strength.RSSI</th>\n",
       "      <th>signal_strength.RSRP</th>\n",
       "      <th>signal_strength.SINR</th>\n",
       "      <th>voip_metrics.jitter_ms</th>\n",
       "      <th>voip_metrics.packet_loss_percent</th>\n",
       "    </tr>\n",
       "  </thead>\n",
       "  <tbody>\n",
       "    <tr>\n",
       "      <th>8995</th>\n",
       "      <td>0.315</td>\n",
       "      <td>8</td>\n",
       "      <td>150</td>\n",
       "      <td>5.333333</td>\n",
       "      <td>99.08</td>\n",
       "      <td>248</td>\n",
       "      <td>-75.99</td>\n",
       "      <td>-83.66</td>\n",
       "      <td>13.04</td>\n",
       "      <td>31.88</td>\n",
       "      <td>1.34</td>\n",
       "    </tr>\n",
       "    <tr>\n",
       "      <th>8996</th>\n",
       "      <td>0.336</td>\n",
       "      <td>3</td>\n",
       "      <td>138</td>\n",
       "      <td>2.173913</td>\n",
       "      <td>98.96</td>\n",
       "      <td>376</td>\n",
       "      <td>-65.03</td>\n",
       "      <td>-87.21</td>\n",
       "      <td>28.68</td>\n",
       "      <td>30.59</td>\n",
       "      <td>1.53</td>\n",
       "    </tr>\n",
       "    <tr>\n",
       "      <th>8997</th>\n",
       "      <td>0.792</td>\n",
       "      <td>10</td>\n",
       "      <td>171</td>\n",
       "      <td>5.847953</td>\n",
       "      <td>99.03</td>\n",
       "      <td>247</td>\n",
       "      <td>-61.80</td>\n",
       "      <td>-106.96</td>\n",
       "      <td>-6.81</td>\n",
       "      <td>1.35</td>\n",
       "      <td>1.00</td>\n",
       "    </tr>\n",
       "    <tr>\n",
       "      <th>8998</th>\n",
       "      <td>0.746</td>\n",
       "      <td>1</td>\n",
       "      <td>186</td>\n",
       "      <td>0.537634</td>\n",
       "      <td>99.97</td>\n",
       "      <td>101</td>\n",
       "      <td>-80.17</td>\n",
       "      <td>-131.99</td>\n",
       "      <td>23.03</td>\n",
       "      <td>48.12</td>\n",
       "      <td>3.88</td>\n",
       "    </tr>\n",
       "    <tr>\n",
       "      <th>8999</th>\n",
       "      <td>0.163</td>\n",
       "      <td>2</td>\n",
       "      <td>79</td>\n",
       "      <td>2.531646</td>\n",
       "      <td>95.78</td>\n",
       "      <td>164</td>\n",
       "      <td>-73.75</td>\n",
       "      <td>-112.53</td>\n",
       "      <td>10.91</td>\n",
       "      <td>17.34</td>\n",
       "      <td>4.98</td>\n",
       "    </tr>\n",
       "  </tbody>\n",
       "</table>\n",
       "</div>"
      ],
      "text/plain": [
       "      latency_sec  dropped_calls  total_calls  call_drop_rate  uptime_percent  \\\n",
       "8995        0.315              8          150        5.333333           99.08   \n",
       "8996        0.336              3          138        2.173913           98.96   \n",
       "8997        0.792             10          171        5.847953           99.03   \n",
       "8998        0.746              1          186        0.537634           99.97   \n",
       "8999        0.163              2           79        2.531646           95.78   \n",
       "\n",
       "      users_connected  signal_strength.RSSI  signal_strength.RSRP  \\\n",
       "8995              248                -75.99                -83.66   \n",
       "8996              376                -65.03                -87.21   \n",
       "8997              247                -61.80               -106.96   \n",
       "8998              101                -80.17               -131.99   \n",
       "8999              164                -73.75               -112.53   \n",
       "\n",
       "      signal_strength.SINR  voip_metrics.jitter_ms  \\\n",
       "8995                 13.04                   31.88   \n",
       "8996                 28.68                   30.59   \n",
       "8997                 -6.81                    1.35   \n",
       "8998                 23.03                   48.12   \n",
       "8999                 10.91                   17.34   \n",
       "\n",
       "      voip_metrics.packet_loss_percent  \n",
       "8995                              1.34  \n",
       "8996                              1.53  \n",
       "8997                              1.00  \n",
       "8998                              3.88  \n",
       "8999                              4.98  "
      ]
     },
     "execution_count": 9,
     "metadata": {},
     "output_type": "execute_result"
    }
   ],
   "source": [
    "df.tail()"
   ]
  },
  {
   "cell_type": "code",
   "execution_count": 12,
   "id": "065cf577",
   "metadata": {},
   "outputs": [
    {
     "data": {
      "text/plain": [
       "latency_sec                         0\n",
       "dropped_calls                       0\n",
       "total_calls                         0\n",
       "call_drop_rate                      0\n",
       "uptime_percent                      0\n",
       "users_connected                     0\n",
       "signal_strength.RSSI                0\n",
       "signal_strength.RSRP                0\n",
       "signal_strength.SINR                0\n",
       "voip_metrics.jitter_ms              0\n",
       "voip_metrics.packet_loss_percent    0\n",
       "dtype: int64"
      ]
     },
     "execution_count": 12,
     "metadata": {},
     "output_type": "execute_result"
    }
   ],
   "source": [
    "df.isna().sum()"
   ]
  },
  {
   "cell_type": "code",
   "execution_count": null,
   "id": "79b8756f",
   "metadata": {},
   "outputs": [],
   "source": [
    "def evaluate_row(row):\n",
    "    # Call Drop Rate\n",
    "    if row['call_drop_rate'] >= 2:\n",
    "        return 1\n",
    "    # Latency\n",
    "    if row['latency_sec'] >= 0.15:\n",
    "        return 1\n",
    "    # Signal strength\n",
    "    if row['signal_strength.RSSI'] <= -90:\n",
    "        return 1\n",
    "    if row['signal_strength.RSRP'] <= -100:\n",
    "        return 1\n",
    "    if row['signal_strength.SINR'] <= 20:\n",
    "        return 1\n",
    "    # VoIP metrics\n",
    "    if row['voip_metrics.jitter_ms'] >= 30:\n",
    "        return 1\n",
    "    if row['voip_metrics.packet_loss_percent'] >= 1:\n",
    "        return 1\n",
    "    # Uptime\n",
    "    if row['uptime_percent'] <= 99.9:\n",
    "        return 1\n",
    "\n",
    "    return 0"
   ]
  }
 ],
 "metadata": {
  "kernelspec": {
   "display_name": "Python 3",
   "language": "python",
   "name": "python3"
  },
  "language_info": {
   "codemirror_mode": {
    "name": "ipython",
    "version": 3
   },
   "file_extension": ".py",
   "mimetype": "text/x-python",
   "name": "python",
   "nbconvert_exporter": "python",
   "pygments_lexer": "ipython3",
   "version": "3.12.7"
  }
 },
 "nbformat": 4,
 "nbformat_minor": 5
}
